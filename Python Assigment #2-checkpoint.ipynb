{
 "cells": [
  {
   "cell_type": "markdown",
   "metadata": {},
   "source": [
    "# Q1: Write a program which takes 5 inputs from user for different subject’smarks, total it and generate mark sheet using grades ?"
   ]
  },
  {
   "cell_type": "code",
   "execution_count": 3,
   "metadata": {},
   "outputs": [
    {
     "name": "stdout",
     "output_type": "stream",
     "text": [
      "Enter 'x' for exit.\n",
      "Enter marks obtained in 5 subjects: \n",
      "80\n",
      "70\n",
      "65\n",
      "83\n",
      "72\n",
      "Your Grade is B+\n"
     ]
    }
   ],
   "source": [
    "print(\"Enter 'x' for exit.\");\n",
    "print(\"Enter marks obtained in 5 subjects: \");\n",
    "mark1 = input();\n",
    "if mark1 == 'x':\n",
    "    exit();\n",
    "else:\n",
    "    mark1 = int(mark1);\n",
    "    mark2 = int(input());\n",
    "    mark3 = int(input());\n",
    "    mark4 = int(input());\n",
    "    mark5 = int(input());\n",
    "    sum = mark1 + mark2 + mark3 + mark4 + mark5;\n",
    "    average = sum/5;\n",
    "    if(average>=91 and average<=100):\n",
    "    \tprint(\"Your Grade is A+\");\n",
    "    elif(average>=81 and average<=90):\n",
    "    \tprint(\"Your Grade is A\");\n",
    "    elif(average>=71 and average<=80):\n",
    "    \tprint(\"Your Grade is B+\");\n",
    "    elif(average>=61 and average<=70):\n",
    "    \tprint(\"Your Grade is B\");\n",
    "    elif(average>=51 and average<=60):\n",
    "    \tprint(\"Your Grade is C+\");\n",
    "    elif(average>=41 and average<=50):\n",
    "    \tprint(\"Your Grade is C\");\n",
    "    elif(average>=0 and average<=40):\n",
    "    \tprint(\"Your Grade is F\");\n",
    "    else:\n",
    "    \tprint(\"Strange Grade..!!\");"
   ]
  },
  {
   "cell_type": "markdown",
   "metadata": {},
   "source": [
    "# Q2: Write a program which take input from user and identify that the given number is even or odd?"
   ]
  },
  {
   "cell_type": "code",
   "execution_count": 4,
   "metadata": {},
   "outputs": [
    {
     "name": "stdout",
     "output_type": "stream",
     "text": [
      "Enter a number: 2\n",
      "2 is Even\n"
     ]
    }
   ],
   "source": [
    "num = int(input(\"Enter a number: \"))\n",
    "if (num % 2) == 0:\n",
    "   print(\"{0} is Even\".format(num))\n",
    "else:\n",
    "   print(\"{0} is Odd\".format(num))"
   ]
  },
  {
   "cell_type": "markdown",
   "metadata": {},
   "source": [
    "# Q3: Write a program which print the length of the list?"
   ]
  },
  {
   "cell_type": "code",
   "execution_count": 5,
   "metadata": {},
   "outputs": [
    {
     "name": "stdout",
     "output_type": "stream",
     "text": [
      "The length of list is:  3\n"
     ]
    }
   ],
   "source": [
    "list = len([10, 20, 30]) \n",
    "print(\"The length of list is: \", list) "
   ]
  },
  {
   "cell_type": "markdown",
   "metadata": {},
   "source": [
    "# Q4: Write a Python program to sum all the numeric items in a list?"
   ]
  },
  {
   "cell_type": "code",
   "execution_count": 10,
   "metadata": {},
   "outputs": [
    {
     "name": "stdout",
     "output_type": "stream",
     "text": [
      "Sum of all elements in given list:  74\n"
     ]
    }
   ],
   "source": [
    "total = 0\n",
    "  \n",
    "list1 = [11, 5, 17, 18, 23]  \n",
    "  \n",
    " \n",
    "for ele in range(0, len(list1)): \n",
    "    total = total + list1[ele] \n",
    "  \n",
    "print(\"Sum of all elements in given list: \", total) "
   ]
  },
  {
   "cell_type": "markdown",
   "metadata": {},
   "source": [
    "# Q5: Write a Python program to get the largest number from a numeric list."
   ]
  },
  {
   "cell_type": "code",
   "execution_count": 9,
   "metadata": {},
   "outputs": [
    {
     "name": "stdout",
     "output_type": "stream",
     "text": [
      "Largest element is: 99\n"
     ]
    }
   ],
   "source": [
    "list2 = [10, 20, 4, 45, 99] \n",
    "  \n",
    "print(\"Largest element is:\", max(list2)) "
   ]
  },
  {
   "cell_type": "markdown",
   "metadata": {},
   "source": [
    "# Q6: and write a program that prints out all the elements of the list that are less than 5."
   ]
  },
  {
   "cell_type": "code",
   "execution_count": null,
   "metadata": {},
   "outputs": [],
   "source": []
  }
 ],
 "metadata": {
  "kernelspec": {
   "display_name": "Python 3",
   "language": "python",
   "name": "python3"
  },
  "language_info": {
   "codemirror_mode": {
    "name": "ipython",
    "version": 3
   },
   "file_extension": ".py",
   "mimetype": "text/x-python",
   "name": "python",
   "nbconvert_exporter": "python",
   "pygments_lexer": "ipython3",
   "version": "3.7.3"
  }
 },
 "nbformat": 4,
 "nbformat_minor": 2
}
